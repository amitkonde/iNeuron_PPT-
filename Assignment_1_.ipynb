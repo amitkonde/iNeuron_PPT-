{
  "nbformat": 4,
  "nbformat_minor": 0,
  "metadata": {
    "colab": {
      "provenance": []
    },
    "kernelspec": {
      "name": "python3",
      "display_name": "Python 3"
    },
    "language_info": {
      "name": "python"
    }
  },
  "cells": [
    {
      "cell_type": "code",
      "execution_count": null,
      "metadata": {
        "id": "GjhSArFrIH5R"
      },
      "outputs": [],
      "source": []
    },
    {
      "cell_type": "markdown",
      "source": [
        "1. Write a Python program to reverse a string without using any built-in string reversal functions.\n"
      ],
      "metadata": {
        "id": "tOTsvENrIQaf"
      }
    },
    {
      "cell_type": "code",
      "source": [
        "def reverse_string(s):\n",
        "    char_list = list(s)\n",
        "    left = 0\n",
        "    right = len(char_list) - 1\n",
        "\n",
        "    while left < right:\n",
        "        char_list[left], char_list[right] = char_list[right], char_list[left]\n",
        "        left += 1\n",
        "        right -= 1\n",
        "\n",
        "    return ''.join(char_list)\n",
        "s = \"Hello, World!\"\n",
        "reversed_s = reverse_string(s)\n",
        "print(reversed_s)\n"
      ],
      "metadata": {
        "colab": {
          "base_uri": "https://localhost:8080/"
        },
        "id": "RIrMnFHyIVEm",
        "outputId": "a157037c-fbb8-4131-c5a3-492e28e766b2"
      },
      "execution_count": 1,
      "outputs": [
        {
          "output_type": "stream",
          "name": "stdout",
          "text": [
            "!dlroW ,olleH\n"
          ]
        }
      ]
    },
    {
      "cell_type": "markdown",
      "source": [
        "2. Implement a function to check if a given string is a palindrome.\n"
      ],
      "metadata": {
        "id": "I8Ps_MmlI6-Q"
      }
    },
    {
      "cell_type": "code",
      "source": [
        "def is_palindrome(s):\n",
        "    left = 0\n",
        "    right = len(s) - 1\n",
        "\n",
        "    while left < right:\n",
        "        if s[left] != s[right]:\n",
        "            return False\n",
        "        left += 1\n",
        "        right -= 1\n",
        "\n",
        "    return True\n",
        "print(is_palindrome(\"radar\"))  # Output: True\n",
        "print(is_palindrome(\"hello\"))  # Output: False\n",
        "print(is_palindrome(\"level\"))  # Output: True\n"
      ],
      "metadata": {
        "colab": {
          "base_uri": "https://localhost:8080/"
        },
        "id": "leGb0urMJZjz",
        "outputId": "c125aef7-d847-4fdb-fdba-43612d69f3dd"
      },
      "execution_count": 2,
      "outputs": [
        {
          "output_type": "stream",
          "name": "stdout",
          "text": [
            "True\n",
            "False\n",
            "True\n"
          ]
        }
      ]
    },
    {
      "cell_type": "markdown",
      "source": [
        "3. Write a program to find the largest element in a given list."
      ],
      "metadata": {
        "id": "lzrbsaBTJjCa"
      }
    },
    {
      "cell_type": "code",
      "source": [
        "def find_largest_element(lst):\n",
        "    largest = lst[0]\n",
        "    for num in lst:\n",
        "        if num > largest:\n",
        "            largest = num\n",
        "    return largest\n",
        "\n",
        "# Example usage\n",
        "numbers = [12, 5, 27, 8, 16]\n",
        "largest_number = find_largest_element(numbers)\n",
        "print(\"The largest number is:\", largest_number)\n"
      ],
      "metadata": {
        "colab": {
          "base_uri": "https://localhost:8080/"
        },
        "id": "0YUMoYg4I-6C",
        "outputId": "48785747-1ecc-402e-a1bf-669ab02d4ee5"
      },
      "execution_count": 3,
      "outputs": [
        {
          "output_type": "stream",
          "name": "stdout",
          "text": [
            "The largest number is: 27\n"
          ]
        }
      ]
    },
    {
      "cell_type": "markdown",
      "source": [
        "4. Implement a function to count the occurrence of each element in a list."
      ],
      "metadata": {
        "id": "l6OvKX2kJ778"
      }
    },
    {
      "cell_type": "code",
      "source": [
        "def count_occurrences(lst):\n",
        "    count_dict = {}\n",
        "    for num in lst:\n",
        "        count_dict[num] = count_dict.get(num, 0) + 1\n",
        "    return count_dict\n",
        "\n",
        "# Example usage\n",
        "numbers = [1, 2, 3, 2, 1, 2, 4, 3, 1, 1]\n",
        "occurrence_count = count_occurrences(numbers)\n",
        "print(\"Occurrence count:\", occurrence_count)\n"
      ],
      "metadata": {
        "colab": {
          "base_uri": "https://localhost:8080/"
        },
        "id": "Yt7FeaneJrAa",
        "outputId": "6a1f4130-51cd-4223-e5d2-07f06aa41298"
      },
      "execution_count": 4,
      "outputs": [
        {
          "output_type": "stream",
          "name": "stdout",
          "text": [
            "Occurrence count: {1: 4, 2: 3, 3: 2, 4: 1}\n"
          ]
        }
      ]
    },
    {
      "cell_type": "markdown",
      "source": [
        "\n",
        "\n",
        "5. Write a Python program to find the second largest number in a list.\n"
      ],
      "metadata": {
        "id": "OqRpULClKGOR"
      }
    },
    {
      "cell_type": "code",
      "source": [
        "def find_second_largest(lst):\n",
        "    largest = float('-inf')\n",
        "    second_largest = float('-inf')\n",
        "    for num in lst:\n",
        "        if num > largest:\n",
        "            second_largest = largest\n",
        "            largest = num\n",
        "        elif num > second_largest and num != largest:\n",
        "            second_largest = num\n",
        "    return second_largest\n",
        "\n",
        "# Example usage\n",
        "numbers = [12, 5, 27, 8, 16]\n",
        "second_largest_number = find_second_largest(numbers)\n",
        "print(\"The second largest number is:\", second_largest_number)\n"
      ],
      "metadata": {
        "colab": {
          "base_uri": "https://localhost:8080/"
        },
        "id": "3ijvkn6IJ7II",
        "outputId": "5cb64db3-217a-459a-bf9e-dcb0ce14de13"
      },
      "execution_count": 5,
      "outputs": [
        {
          "output_type": "stream",
          "name": "stdout",
          "text": [
            "The second largest number is: 16\n"
          ]
        }
      ]
    },
    {
      "cell_type": "markdown",
      "source": [
        "6. Implement a function to remove duplicate elements from a list.\n"
      ],
      "metadata": {
        "id": "hjoNJvbjKKvZ"
      }
    },
    {
      "cell_type": "code",
      "source": [
        "def remove_duplicates(lst):\n",
        "    return list(set(lst))\n",
        "\n",
        "# Example usage\n",
        "numbers = [1, 2, 3, 2, 1, 4, 3, 5]\n",
        "unique_numbers = remove_duplicates(numbers)\n",
        "print(\"List with duplicates removed:\", unique_numbers)\n"
      ],
      "metadata": {
        "colab": {
          "base_uri": "https://localhost:8080/"
        },
        "id": "h4k_5XpGKNSr",
        "outputId": "864b15b5-325d-48e1-e876-7376749da7cd"
      },
      "execution_count": 6,
      "outputs": [
        {
          "output_type": "stream",
          "name": "stdout",
          "text": [
            "List with duplicates removed: [1, 2, 3, 4, 5]\n"
          ]
        }
      ]
    },
    {
      "cell_type": "markdown",
      "source": [
        "7. Write a program to calculate the factorial of a given number.\n"
      ],
      "metadata": {
        "id": "x6GL3OVzKN-t"
      }
    },
    {
      "cell_type": "code",
      "source": [
        "def factorial(n):\n",
        "    if n == 0 or n == 1:\n",
        "        return 1\n",
        "\n",
        "    result = 1\n",
        "    for i in range(2, n + 1):\n",
        "        result *= i\n",
        "\n",
        "    return result\n",
        "\n",
        "# Example usage\n",
        "number = 5\n",
        "factorial_result = factorial(number)\n",
        "print(\"Factorial of\", number, \"is:\", factorial_result)\n"
      ],
      "metadata": {
        "colab": {
          "base_uri": "https://localhost:8080/"
        },
        "id": "AFDmUOVSKQj7",
        "outputId": "6377f76f-72ce-4130-97e7-c20dfa9de45c"
      },
      "execution_count": 7,
      "outputs": [
        {
          "output_type": "stream",
          "name": "stdout",
          "text": [
            "Factorial of 5 is: 120\n"
          ]
        }
      ]
    },
    {
      "cell_type": "markdown",
      "source": [
        "8. Implement a function to check if a given number is prime.\n"
      ],
      "metadata": {
        "id": "OyRjEQvZKRJQ"
      }
    },
    {
      "cell_type": "code",
      "source": [
        "def is_prime(n):\n",
        "    if n <= 1:\n",
        "        return False\n",
        "\n",
        "    for i in range(2, int(n ** 0.5) + 1):\n",
        "        if n % i == 0:\n",
        "            return False\n",
        "\n",
        "    return True\n",
        "\n",
        "# Example usage\n",
        "number = 17\n",
        "is_prime_number = is_prime(number)\n",
        "if is_prime_number:\n",
        "    print(number, \"is a prime number\")\n",
        "else:\n",
        "    print(number, \"is not a prime number\")\n"
      ],
      "metadata": {
        "colab": {
          "base_uri": "https://localhost:8080/"
        },
        "id": "L-8anb8TKTUs",
        "outputId": "15d31248-3cae-47cf-c4df-607dc12bc583"
      },
      "execution_count": 8,
      "outputs": [
        {
          "output_type": "stream",
          "name": "stdout",
          "text": [
            "17 is a prime number\n"
          ]
        }
      ]
    },
    {
      "cell_type": "markdown",
      "source": [
        "9. Write a Python program to sort a list of integers in ascending order.\n",
        "\n"
      ],
      "metadata": {
        "id": "9HJ0J7VGKUJU"
      }
    },
    {
      "cell_type": "code",
      "source": [
        "def sort_list(lst):\n",
        "    sorted_lst = sorted(lst)\n",
        "    return sorted_lst\n",
        "\n",
        "# Example usage\n",
        "numbers = [5, 2, 8, 1, 9, 3]\n",
        "sorted_numbers = sort_list(numbers)\n",
        "print(\"Sorted list:\", sorted_numbers)\n"
      ],
      "metadata": {
        "colab": {
          "base_uri": "https://localhost:8080/"
        },
        "id": "-M50ZW_SKWss",
        "outputId": "548c8dea-e78e-4a81-d331-8a1ae7fcceec"
      },
      "execution_count": 9,
      "outputs": [
        {
          "output_type": "stream",
          "name": "stdout",
          "text": [
            "Sorted list: [1, 2, 3, 5, 8, 9]\n"
          ]
        }
      ]
    },
    {
      "cell_type": "markdown",
      "source": [
        "10. Implement a function to find the sum of all numbers in a list.\n"
      ],
      "metadata": {
        "id": "6dosPO90KXST"
      }
    },
    {
      "cell_type": "code",
      "source": [
        "def sum_of_numbers(lst):\n",
        "    return sum(lst)\n",
        "\n",
        "# Example usage\n",
        "numbers = [5, 2, 8, 1, 9, 3]\n",
        "total_sum = sum_of_numbers(numbers)\n",
        "print(\"Sum of numbers:\", total_sum)\n"
      ],
      "metadata": {
        "colab": {
          "base_uri": "https://localhost:8080/"
        },
        "id": "g9sVIr7sKZbr",
        "outputId": "bdcfaf8f-d7b7-4009-fc67-2b74800deff2"
      },
      "execution_count": 10,
      "outputs": [
        {
          "output_type": "stream",
          "name": "stdout",
          "text": [
            "Sum of numbers: 28\n"
          ]
        }
      ]
    },
    {
      "cell_type": "markdown",
      "source": [
        "11. Write a program to find the common elements between two lists.\n"
      ],
      "metadata": {
        "id": "_9hZAvByKZ1S"
      }
    },
    {
      "cell_type": "code",
      "source": [
        "def find_common_elements(list1, list2):\n",
        "    common_elements = []\n",
        "    for element in list1:\n",
        "        if element in list2:\n",
        "            common_elements.append(element)\n",
        "    return common_elements\n",
        "\n",
        "# Example usage\n",
        "list1 = [1, 2, 3, 4, 5]\n",
        "list2 = [4, 5, 6, 7, 8]\n",
        "common_elements = find_common_elements(list1, list2)\n",
        "print(\"Common elements:\", common_elements)\n"
      ],
      "metadata": {
        "colab": {
          "base_uri": "https://localhost:8080/"
        },
        "id": "9lZanDkgKcDy",
        "outputId": "75994fab-6a64-4cf2-86dd-b15e5f2c0800"
      },
      "execution_count": 11,
      "outputs": [
        {
          "output_type": "stream",
          "name": "stdout",
          "text": [
            "Common elements: [4, 5]\n"
          ]
        }
      ]
    },
    {
      "cell_type": "markdown",
      "source": [
        "12. Implement a function to check if a given string is an anagram of another string.\n",
        "\n"
      ],
      "metadata": {
        "id": "IZARDvivKc5w"
      }
    },
    {
      "cell_type": "code",
      "source": [
        "def is_anagram(str1, str2):\n",
        "    sorted_str1 = sorted(str1)\n",
        "    sorted_str2 = sorted(str2)\n",
        "\n",
        "    return sorted_str1 == sorted_str2\n",
        "\n",
        "# Example usage\n",
        "string1 = \"listen\"\n",
        "string2 = \"silent\"\n",
        "if is_anagram(string1, string2):\n",
        "    print(string1, \"and\", string2, \"are anagrams\")\n",
        "else:\n",
        "    print(string1, \"and\", string2, \"are not anagrams\")\n"
      ],
      "metadata": {
        "colab": {
          "base_uri": "https://localhost:8080/"
        },
        "id": "YCyYYjqgRGSB",
        "outputId": "fd725116-6850-4d82-dce9-9b19610b335a"
      },
      "execution_count": 12,
      "outputs": [
        {
          "output_type": "stream",
          "name": "stdout",
          "text": [
            "listen and silent are anagrams\n"
          ]
        }
      ]
    },
    {
      "cell_type": "markdown",
      "source": [
        "13. Write a Python program to generate all permutations of a given string.\n"
      ],
      "metadata": {
        "id": "ChOeZXuJRG25"
      }
    },
    {
      "cell_type": "code",
      "source": [
        "def generate_permutations(string):\n",
        "    # Base case: if the string has only one character, return it as a single permutation\n",
        "    if len(string) == 1:\n",
        "        return [string]\n",
        "\n",
        "    # List to store all permutations\n",
        "    permutations = []\n",
        "\n",
        "    # Generate permutations for each character in the string\n",
        "    for i in range(len(string)):\n",
        "        # Extract the current character\n",
        "        current_char = string[i]\n",
        "\n",
        "        # Generate permutations of the remaining characters\n",
        "        remaining_chars = string[:i] + string[i+1:]\n",
        "        sub_permutations = generate_permutations(remaining_chars)\n",
        "\n",
        "        # Add the current character to each sub-permutation\n",
        "        for sub_permutation in sub_permutations:\n",
        "            permutations.append(current_char + sub_permutation)\n",
        "\n",
        "    return permutations\n",
        "\n",
        "# Example usage\n",
        "string = \"abc\"\n",
        "permutations = generate_permutations(string)\n",
        "print(\"Permutations of\", string, \":\")\n",
        "for permutation in permutations:\n",
        "    print(permutation)\n"
      ],
      "metadata": {
        "colab": {
          "base_uri": "https://localhost:8080/"
        },
        "id": "ivwgHz4jRKqQ",
        "outputId": "a29ff68f-b2d4-406e-d8b1-ac082a581122"
      },
      "execution_count": 13,
      "outputs": [
        {
          "output_type": "stream",
          "name": "stdout",
          "text": [
            "Permutations of abc :\n",
            "abc\n",
            "acb\n",
            "bac\n",
            "bca\n",
            "cab\n",
            "cba\n"
          ]
        }
      ]
    },
    {
      "cell_type": "markdown",
      "source": [
        "14. Implement a function to calculate the Fibonacci sequence up to a given number of terms.\n"
      ],
      "metadata": {
        "id": "bSXcsEJ3RMBz"
      }
    },
    {
      "cell_type": "code",
      "source": [
        "def fibonacci(n):\n",
        "    sequence = [0, 1]  # Initialize the sequence with the first two terms\n",
        "    for i in range(2, n):\n",
        "        next_term = sequence[i-1] + sequence[i-2]\n",
        "        sequence.append(next_term)\n",
        "    return sequence\n",
        "\n",
        "# Example usage\n",
        "num_terms = 10\n",
        "fib_sequence = fibonacci(num_terms)\n",
        "print(\"Fibonacci sequence up to\", num_terms, \"terms:\")\n",
        "print(fib_sequence)\n"
      ],
      "metadata": {
        "colab": {
          "base_uri": "https://localhost:8080/"
        },
        "id": "C5vGEoN9RQP5",
        "outputId": "bca0cf0d-b7cb-43e8-b424-b1eb8e4f45c4"
      },
      "execution_count": 14,
      "outputs": [
        {
          "output_type": "stream",
          "name": "stdout",
          "text": [
            "Fibonacci sequence up to 10 terms:\n",
            "[0, 1, 1, 2, 3, 5, 8, 13, 21, 34]\n"
          ]
        }
      ]
    },
    {
      "cell_type": "markdown",
      "source": [
        "15. Write a program to find the median of a list of numbers.\n"
      ],
      "metadata": {
        "id": "5fz_biH4RQyT"
      }
    },
    {
      "cell_type": "code",
      "source": [
        "def find_median(numbers):\n",
        "    sorted_numbers = sorted(numbers)\n",
        "    n = len(sorted_numbers)\n",
        "\n",
        "    if n % 2 == 0:\n",
        "        # If the number of elements is even, average the middle two numbers\n",
        "        middle_left = sorted_numbers[n//2 - 1]\n",
        "        middle_right = sorted_numbers[n//2]\n",
        "        median = (middle_left + middle_right) / 2\n",
        "    else:\n",
        "        # If the number of elements is odd, take the middle number\n",
        "        median = sorted_numbers[n//2]\n",
        "\n",
        "    return median\n",
        "\n",
        "# Example usage\n",
        "number_list = [5, 2, 8, 1, 9, 3]\n",
        "median_value = find_median(number_list)\n",
        "print(\"Median of the list:\", median_value)\n"
      ],
      "metadata": {
        "colab": {
          "base_uri": "https://localhost:8080/"
        },
        "id": "44-wpXr0RT_Y",
        "outputId": "b28e6127-5b41-4ce6-bb88-98dc0349b4c8"
      },
      "execution_count": 15,
      "outputs": [
        {
          "output_type": "stream",
          "name": "stdout",
          "text": [
            "Median of the list: 4.0\n"
          ]
        }
      ]
    },
    {
      "cell_type": "markdown",
      "source": [
        "16. Implement a function to check if a given list is sorted in non-decreasing order.\n"
      ],
      "metadata": {
        "id": "bm3qQk0ERUcb"
      }
    },
    {
      "cell_type": "code",
      "source": [
        "def is_sorted(lst):\n",
        "    n = len(lst)\n",
        "    for i in range(n-1):\n",
        "        if lst[i] > lst[i+1]:\n",
        "            return False\n",
        "    return True\n",
        "\n",
        "# Example usage\n",
        "numbers1 = [1, 2, 3, 4, 5]\n",
        "print(\"List 1 is sorted:\", is_sorted(numbers1))\n",
        "\n",
        "numbers2 = [1, 3, 2, 4, 5]\n",
        "print(\"List 2 is sorted:\", is_sorted(numbers2))\n"
      ],
      "metadata": {
        "colab": {
          "base_uri": "https://localhost:8080/"
        },
        "id": "qJh6E9AERYmu",
        "outputId": "dc29e1e9-674d-402e-fea4-76b12e6234a3"
      },
      "execution_count": 16,
      "outputs": [
        {
          "output_type": "stream",
          "name": "stdout",
          "text": [
            "List 1 is sorted: True\n",
            "List 2 is sorted: False\n"
          ]
        }
      ]
    },
    {
      "cell_type": "markdown",
      "source": [
        "17. Write a Python program to find the intersection of two lists.\n"
      ],
      "metadata": {
        "id": "XyEfncEcRZju"
      }
    },
    {
      "cell_type": "code",
      "source": [
        "def find_intersection(list1, list2):\n",
        "    set1 = set(list1)\n",
        "    set2 = set(list2)\n",
        "    intersection = set1.intersection(set2)\n",
        "    return list(intersection)\n",
        "\n",
        "# Example usage\n",
        "list1 = [1, 2, 3, 4, 5]\n",
        "list2 = [4, 5, 6, 7, 8]\n",
        "intersection = find_intersection(list1, list2)\n",
        "print(\"Intersection of the lists:\", intersection)\n"
      ],
      "metadata": {
        "colab": {
          "base_uri": "https://localhost:8080/"
        },
        "id": "3CfKbWQHSqRD",
        "outputId": "41e0e787-f562-41f5-aa3c-fcb0b8e84b83"
      },
      "execution_count": 17,
      "outputs": [
        {
          "output_type": "stream",
          "name": "stdout",
          "text": [
            "Intersection of the lists: [4, 5]\n"
          ]
        }
      ]
    },
    {
      "cell_type": "code",
      "source": [],
      "metadata": {
        "id": "1ulLgMnhRd8S"
      },
      "execution_count": null,
      "outputs": []
    },
    {
      "cell_type": "markdown",
      "source": [
        "18. Implement a function to find the maximum subarray sum in a given list.\n"
      ],
      "metadata": {
        "id": "IsX88pNSRfib"
      }
    },
    {
      "cell_type": "code",
      "source": [
        "def max_subarray_sum(lst):\n",
        "    max_sum = lst[0]\n",
        "    current_sum = lst[0]\n",
        "\n",
        "    for num in lst[1:]:\n",
        "        current_sum = max(num, current_sum + num)\n",
        "        max_sum = max(max_sum, current_sum)\n",
        "\n",
        "    return max_sum\n",
        "\n",
        "# Example usage\n",
        "numbers = [-2, 1, -3, 4, -1, 2, 1, -5, 4]\n",
        "max_sum = max_subarray_sum(numbers)\n",
        "print(\"Maximum subarray sum:\", max_sum)\n"
      ],
      "metadata": {
        "colab": {
          "base_uri": "https://localhost:8080/"
        },
        "id": "ctzdZiJXRjdY",
        "outputId": "4a4ba919-14c6-475e-e908-409c9da30782"
      },
      "execution_count": 18,
      "outputs": [
        {
          "output_type": "stream",
          "name": "stdout",
          "text": [
            "Maximum subarray sum: 6\n"
          ]
        }
      ]
    },
    {
      "cell_type": "markdown",
      "source": [
        "19. Write a program to remove all vowels from a given string.\n"
      ],
      "metadata": {
        "id": "DBTIZUaFRkD3"
      }
    },
    {
      "cell_type": "code",
      "source": [
        "def remove_vowels(string):\n",
        "    vowels = \"aeiouAEIOU\"\n",
        "    new_string = \"\"\n",
        "    for char in string:\n",
        "        if char not in vowels:\n",
        "            new_string += char\n",
        "    return new_string\n",
        "\n",
        "# Example usage\n",
        "text = \"Hello, World!\"\n",
        "result = remove_vowels(text)\n",
        "print(\"String without vowels:\", result)\n"
      ],
      "metadata": {
        "colab": {
          "base_uri": "https://localhost:8080/"
        },
        "id": "5PWLU31_S_6k",
        "outputId": "99b94b6b-9af4-457a-aa2b-382ae9fcf3f8"
      },
      "execution_count": 19,
      "outputs": [
        {
          "output_type": "stream",
          "name": "stdout",
          "text": [
            "String without vowels: Hll, Wrld!\n"
          ]
        }
      ]
    },
    {
      "cell_type": "markdown",
      "source": [
        "20. Implement a function to reverse the order of words in a given sentence.\n"
      ],
      "metadata": {
        "id": "WZudKKztRnpj"
      }
    },
    {
      "cell_type": "code",
      "source": [
        "def reverse_words(sentence):\n",
        "    words = sentence.split()  # Split the sentence into words\n",
        "    reversed_words = words[::-1]  # Reverse the order of words\n",
        "    reversed_sentence = ' '.join(reversed_words)  # Join the reversed words\n",
        "    return reversed_sentence\n",
        "\n",
        "# Example usage\n",
        "sentence = \"Hello, world! How are you?\"\n",
        "reversed_sentence = reverse_words(sentence)\n",
        "print(\"Reversed sentence:\", reversed_sentence)\n"
      ],
      "metadata": {
        "colab": {
          "base_uri": "https://localhost:8080/"
        },
        "id": "zEUTpeLYTFaN",
        "outputId": "a6df0df0-0db7-40ab-d8c2-9b27030adf84"
      },
      "execution_count": 20,
      "outputs": [
        {
          "output_type": "stream",
          "name": "stdout",
          "text": [
            "Reversed sentence: you? are How world! Hello,\n"
          ]
        }
      ]
    },
    {
      "cell_type": "markdown",
      "source": [
        "21. Write a Python program to check if two strings are anagrams of each other.\n"
      ],
      "metadata": {
        "id": "6tuMFhIURqhM"
      }
    },
    {
      "cell_type": "code",
      "source": [
        "def are_anagrams(str1, str2):\n",
        "    # Convert both strings to lowercase for case-insensitive comparison\n",
        "    str1 = str1.lower()\n",
        "    str2 = str2.lower()\n",
        "\n",
        "    # Remove whitespace from both strings\n",
        "    str1 = str1.replace(\" \", \"\")\n",
        "    str2 = str2.replace(\" \", \"\")\n",
        "\n",
        "    # Check if the sorted versions of the strings are equal\n",
        "    return sorted(str1) == sorted(str2)\n",
        "\n",
        "# Example usage\n",
        "string1 = \"listen\"\n",
        "string2 = \"silent\"\n",
        "if are_anagrams(string1, string2):\n",
        "    print(string1, \"and\", string2, \"are anagrams\")\n",
        "else:\n",
        "    print(string1, \"and\", string2, \"are not anagrams\")\n"
      ],
      "metadata": {
        "colab": {
          "base_uri": "https://localhost:8080/"
        },
        "id": "NpJ2W5mNTTTp",
        "outputId": "10b96f68-662e-4553-db05-7403b81d16ed"
      },
      "execution_count": 21,
      "outputs": [
        {
          "output_type": "stream",
          "name": "stdout",
          "text": [
            "listen and silent are anagrams\n"
          ]
        }
      ]
    },
    {
      "cell_type": "markdown",
      "source": [
        "22. Implement a function to find the first non-repeating character in a string.\n"
      ],
      "metadata": {
        "id": "Uke0o68vThRH"
      }
    },
    {
      "cell_type": "code",
      "source": [
        "def find_first_non_repeating_char(string):\n",
        "    char_count = {}\n",
        "\n",
        "    # Count the occurrences of each character\n",
        "    for char in string:\n",
        "        char_count[char] = char_count.get(char, 0) + 1\n",
        "\n",
        "    # Find the first non-repeating character\n",
        "    for char in string:\n",
        "        if char_count[char] == 1:\n",
        "            return char\n",
        "\n",
        "    # If no non-repeating character found, return None\n",
        "    return None\n",
        "\n",
        "# Example usage\n",
        "text = \"hello world\"\n",
        "first_non_repeating = find_first_non_repeating_char(text)\n",
        "print(\"First non-repeating character:\", first_non_repeating)\n"
      ],
      "metadata": {
        "colab": {
          "base_uri": "https://localhost:8080/"
        },
        "id": "QoYG94nXRvph",
        "outputId": "c4f519a3-18e6-4cf7-f690-db8316ce8137"
      },
      "execution_count": 22,
      "outputs": [
        {
          "output_type": "stream",
          "name": "stdout",
          "text": [
            "First non-repeating character: h\n"
          ]
        }
      ]
    },
    {
      "cell_type": "markdown",
      "source": [
        "23. Write a program to find the prime factors of a given number.\n"
      ],
      "metadata": {
        "id": "2QqjFYbaTlKt"
      }
    },
    {
      "cell_type": "code",
      "source": [
        "def find_prime_factors(number):\n",
        "    factors = []\n",
        "    divisor = 2\n",
        "\n",
        "    while divisor <= number:\n",
        "        if number % divisor == 0:\n",
        "            factors.append(divisor)\n",
        "            number /= divisor\n",
        "        else:\n",
        "            divisor += 1\n",
        "\n",
        "    return factors\n",
        "\n",
        "# Example usage\n",
        "num = 48\n",
        "prime_factors = find_prime_factors(num)\n",
        "print(\"Prime factors of\", num, \":\", prime_factors)\n"
      ],
      "metadata": {
        "colab": {
          "base_uri": "https://localhost:8080/"
        },
        "id": "mVP0uYseToEh",
        "outputId": "dea15e5a-be32-4bbc-cd23-57ce770af697"
      },
      "execution_count": 23,
      "outputs": [
        {
          "output_type": "stream",
          "name": "stdout",
          "text": [
            "Prime factors of 48 : [2, 2, 2, 2, 3]\n"
          ]
        }
      ]
    },
    {
      "cell_type": "markdown",
      "source": [
        "24. Implement a function to check if a given number is a power of two.\n"
      ],
      "metadata": {
        "id": "rdwvRPN0Tou_"
      }
    },
    {
      "cell_type": "code",
      "source": [
        "def is_power_of_two(number):\n",
        "    if number <= 0:\n",
        "        return False\n",
        "\n",
        "    return (number & (number - 1)) == 0\n",
        "\n",
        "# Example usage\n",
        "num1 = 16\n",
        "print(num1, \"is a power of two:\", is_power_of_two(num1))\n",
        "\n",
        "num2 = 9\n",
        "print(num2, \"is a power of two:\", is_power_of_two(num2))\n"
      ],
      "metadata": {
        "colab": {
          "base_uri": "https://localhost:8080/"
        },
        "id": "aJwGqJ9nTrOD",
        "outputId": "b63a3dca-05c9-4309-aa6f-a157df72f0ec"
      },
      "execution_count": 24,
      "outputs": [
        {
          "output_type": "stream",
          "name": "stdout",
          "text": [
            "16 is a power of two: True\n",
            "9 is a power of two: False\n"
          ]
        }
      ]
    },
    {
      "cell_type": "markdown",
      "source": [
        "25. Write a Python program to merge two sorted lists into a single sorted list.\n"
      ],
      "metadata": {
        "id": "FDA1w3DFTr6r"
      }
    },
    {
      "cell_type": "code",
      "source": [
        "def merge_sorted_lists(list1, list2):\n",
        "    merged_list = []\n",
        "    pointer1, pointer2 = 0, 0\n",
        "    len1, len2 = len(list1), len(list2)\n",
        "\n",
        "    while pointer1 < len1 and pointer2 < len2:\n",
        "        if list1[pointer1] <= list2[pointer2]:\n",
        "            merged_list.append(list1[pointer1])\n",
        "            pointer1 += 1\n",
        "        else:\n",
        "            merged_list.append(list2[pointer2])\n",
        "            pointer2 += 1\n",
        "\n",
        "    # Append the remaining elements from list1, if any\n",
        "    while pointer1 < len1:\n",
        "        merged_list.append(list1[pointer1])\n",
        "        pointer1 += 1\n",
        "\n",
        "    # Append the remaining elements from list2, if any\n",
        "    while pointer2 < len2:\n",
        "        merged_list.append(list2[pointer2])\n",
        "        pointer2 += 1\n",
        "\n",
        "    return merged_list\n",
        "\n",
        "# Example usage\n",
        "sorted_list1 = [1, 3, 5, 7]\n",
        "sorted_list2 = [2, 4, 6, 8]\n",
        "merged_list = merge_sorted_lists(sorted_list1, sorted_list2)\n",
        "print(\"Merged sorted list:\", merged_list)\n"
      ],
      "metadata": {
        "colab": {
          "base_uri": "https://localhost:8080/"
        },
        "id": "hiEYvB2uTuc4",
        "outputId": "d1854077-0f42-4e2f-d700-4b200f45adde"
      },
      "execution_count": 25,
      "outputs": [
        {
          "output_type": "stream",
          "name": "stdout",
          "text": [
            "Merged sorted list: [1, 2, 3, 4, 5, 6, 7, 8]\n"
          ]
        }
      ]
    },
    {
      "cell_type": "markdown",
      "source": [
        "26. Implement a function to find the mode of a list of numbers.\n"
      ],
      "metadata": {
        "id": "k6U4naL1TvAF"
      }
    },
    {
      "cell_type": "code",
      "source": [
        "def find_mode(numbers):\n",
        "    number_count = {}\n",
        "    max_count = 0\n",
        "    modes = []\n",
        "\n",
        "    # Count the occurrences of each number\n",
        "    for number in numbers:\n",
        "        number_count[number] = number_count.get(number, 0) + 1\n",
        "        max_count = max(max_count, number_count[number])\n",
        "\n",
        "    # Find the number(s) with the highest count (mode)\n",
        "    for number, count in number_count.items():\n",
        "        if count == max_count:\n",
        "            modes.append(number)\n",
        "\n",
        "    return modes\n",
        "\n",
        "# Example usage\n",
        "num_list = [1, 2, 2, 3, 3, 3, 4, 4, 5]\n",
        "modes = find_mode(num_list)\n",
        "print(\"Mode(s) of the list:\", modes)\n"
      ],
      "metadata": {
        "colab": {
          "base_uri": "https://localhost:8080/"
        },
        "id": "827a1bmhTyTu",
        "outputId": "5208ec50-0af9-408f-b052-a0c8d6b990e2"
      },
      "execution_count": 26,
      "outputs": [
        {
          "output_type": "stream",
          "name": "stdout",
          "text": [
            "Mode(s) of the list: [3]\n"
          ]
        }
      ]
    },
    {
      "cell_type": "markdown",
      "source": [
        "27. Write a program to find the greatest common divisor (GCD) of two numbers.\n"
      ],
      "metadata": {
        "id": "8LjGCWz9Tzpa"
      }
    },
    {
      "cell_type": "code",
      "source": [
        "def gcd(a, b):\n",
        "    while b != 0:\n",
        "        a, b = b, a % b\n",
        "    return a\n",
        "\n",
        "# Example usage\n",
        "num1 = 36\n",
        "num2 = 48\n",
        "result = gcd(num1, num2)\n",
        "print(\"Greatest Common Divisor (GCD):\", result)\n"
      ],
      "metadata": {
        "colab": {
          "base_uri": "https://localhost:8080/"
        },
        "id": "LF7cnv0wT2z1",
        "outputId": "c6be2015-4e47-43e1-d131-dcbca18fdbc5"
      },
      "execution_count": 27,
      "outputs": [
        {
          "output_type": "stream",
          "name": "stdout",
          "text": [
            "Greatest Common Divisor (GCD): 12\n"
          ]
        }
      ]
    },
    {
      "cell_type": "markdown",
      "source": [
        "28. Implement a function to calculate the square root of a given number.\n"
      ],
      "metadata": {
        "id": "i5X_vvBcT3Wh"
      }
    },
    {
      "cell_type": "code",
      "source": [
        "def square_root(number, epsilon=1e-6):\n",
        "    if number < 0:\n",
        "        raise ValueError(\"Square root is not defined for negative numbers.\")\n",
        "    guess = number  # Initial guess\n",
        "    while True:\n",
        "        new_guess = 0.5 * (guess + number / guess)  # Newton's method formula\n",
        "        if abs(new_guess - guess) < epsilon:  # Check for desired accuracy\n",
        "            return new_guess\n",
        "        guess = new_guess  # Update the guess for the next iteration\n",
        "\n",
        "# Example usage\n",
        "num = 25\n",
        "result = square_root(num)\n",
        "print(\"Square root of\", num, \":\", result)\n"
      ],
      "metadata": {
        "colab": {
          "base_uri": "https://localhost:8080/"
        },
        "id": "LCOJCY33T55l",
        "outputId": "f36a75e1-b522-4a9e-ea68-e41dbcef8c3b"
      },
      "execution_count": 28,
      "outputs": [
        {
          "output_type": "stream",
          "name": "stdout",
          "text": [
            "Square root of 25 : 5.0\n"
          ]
        }
      ]
    },
    {
      "cell_type": "markdown",
      "source": [
        "29. Write a Python program to check if a given string is a valid palindrome ignoring non-alphanumeric characters.\n"
      ],
      "metadata": {
        "id": "uO7l13EdT6dk"
      }
    },
    {
      "cell_type": "code",
      "source": [
        "import re\n",
        "\n",
        "def is_valid_palindrome(string):\n",
        "    # Remove non-alphanumeric characters and convert to lowercase\n",
        "    cleaned_string = re.sub(r'[^a-zA-Z0-9]', '', string.lower())\n",
        "\n",
        "    # Two-pointer approach\n",
        "    left = 0\n",
        "    right = len(cleaned_string) - 1\n",
        "\n",
        "    while left < right:\n",
        "        if cleaned_string[left] != cleaned_string[right]:\n",
        "            return False\n",
        "        left += 1\n",
        "        right -= 1\n",
        "\n",
        "    return True\n",
        "\n",
        "# Example usage\n",
        "text = \"A man, a plan, a canal: Panama\"\n",
        "if is_valid_palindrome(text):\n",
        "    print(\"The string is a valid palindrome.\")\n",
        "else:\n",
        "    print(\"The string is not a valid palindrome.\")\n"
      ],
      "metadata": {
        "colab": {
          "base_uri": "https://localhost:8080/"
        },
        "id": "TrLDbgDsT859",
        "outputId": "b7e724ac-08fb-4fab-cb90-e16dc1d2b21b"
      },
      "execution_count": 29,
      "outputs": [
        {
          "output_type": "stream",
          "name": "stdout",
          "text": [
            "The string is a valid palindrome.\n"
          ]
        }
      ]
    },
    {
      "cell_type": "markdown",
      "source": [
        "30. Implement a function to find the minimum element in a rotated sorted list.\n"
      ],
      "metadata": {
        "id": "D-yNIrXoT9e8"
      }
    },
    {
      "cell_type": "code",
      "source": [
        "def find_minimum(nums):\n",
        "    left = 0\n",
        "    right = len(nums) - 1\n",
        "\n",
        "    while left < right:\n",
        "        mid = left + (right - left) // 2\n",
        "\n",
        "        if nums[mid] > nums[right]:\n",
        "            # Minimum is in the right half\n",
        "            left = mid + 1\n",
        "        else:\n",
        "            # Minimum is in the left half or at the mid position\n",
        "            right = mid\n",
        "\n",
        "    return nums[left]\n",
        "\n",
        "# Example usage\n",
        "rotated_list = [4, 5, 6, 7, 0, 1, 2]\n",
        "minimum = find_minimum(rotated_list)\n",
        "print(\"Minimum element:\", minimum)\n"
      ],
      "metadata": {
        "colab": {
          "base_uri": "https://localhost:8080/"
        },
        "id": "xYI8gi8FUBjx",
        "outputId": "44a5b904-f8fd-490b-d89b-19df96086cb8"
      },
      "execution_count": 30,
      "outputs": [
        {
          "output_type": "stream",
          "name": "stdout",
          "text": [
            "Minimum element: 0\n"
          ]
        }
      ]
    },
    {
      "cell_type": "markdown",
      "source": [
        "31. Write a program to find the sum of all even numbers in a list.\n"
      ],
      "metadata": {
        "id": "VbLAAmuxUCGC"
      }
    },
    {
      "cell_type": "code",
      "source": [
        "def sum_even_numbers(numbers):\n",
        "    even_sum = 0\n",
        "\n",
        "    for number in numbers:\n",
        "        if number % 2 == 0:\n",
        "            even_sum += number\n",
        "\n",
        "    return even_sum\n",
        "\n",
        "# Example usage\n",
        "num_list = [1, 2, 3, 4, 5, 6, 7, 8, 9, 10]\n",
        "result = sum_even_numbers(num_list)\n",
        "print(\"Sum of even numbers:\", result)\n"
      ],
      "metadata": {
        "colab": {
          "base_uri": "https://localhost:8080/"
        },
        "id": "dIe5zr-dUFCv",
        "outputId": "291eb580-edc1-49b4-c646-2e9cf33b243e"
      },
      "execution_count": 31,
      "outputs": [
        {
          "output_type": "stream",
          "name": "stdout",
          "text": [
            "Sum of even numbers: 30\n"
          ]
        }
      ]
    },
    {
      "cell_type": "markdown",
      "source": [
        "32. Implement a function to calculate the power of a number using recursion.\n"
      ],
      "metadata": {
        "id": "YWMrVJZtUF9C"
      }
    },
    {
      "cell_type": "code",
      "source": [
        "def power(base, exponent):\n",
        "    if exponent == 0:\n",
        "        return 1\n",
        "    else:\n",
        "        return base * power(base, exponent - 1)\n",
        "\n",
        "# Example usage\n",
        "base = 2\n",
        "exponent = 3\n",
        "result = power(base, exponent)\n",
        "print(base, \"raised to the power of\", exponent, \":\", result)\n"
      ],
      "metadata": {
        "colab": {
          "base_uri": "https://localhost:8080/"
        },
        "id": "Kvl0-gdzUHF3",
        "outputId": "bee9dc22-473f-4b27-9b82-b612f2bee7e1"
      },
      "execution_count": 32,
      "outputs": [
        {
          "output_type": "stream",
          "name": "stdout",
          "text": [
            "2 raised to the power of 3 : 8\n"
          ]
        }
      ]
    },
    {
      "cell_type": "markdown",
      "source": [
        "33. Write a Python program to remove duplicates from a list while preserving the order.\n"
      ],
      "metadata": {
        "id": "R1B98JcRWOOk"
      }
    },
    {
      "cell_type": "code",
      "source": [
        "def remove_duplicates(lst):\n",
        "    unique_list = []\n",
        "    for item in lst:\n",
        "        if item not in unique_list:\n",
        "            unique_list.append(item)\n",
        "    return unique_list\n",
        "\n",
        "# Example usage\n",
        "original_list = [1, 2, 3, 2, 4, 1, 5, 3]\n",
        "result = remove_duplicates(original_list)\n",
        "print(\"List after removing duplicates:\", result)\n"
      ],
      "metadata": {
        "colab": {
          "base_uri": "https://localhost:8080/"
        },
        "id": "A2_Kv_gHWQdZ",
        "outputId": "880b1da5-9370-4432-9747-5caf6b1fb534"
      },
      "execution_count": 33,
      "outputs": [
        {
          "output_type": "stream",
          "name": "stdout",
          "text": [
            "List after removing duplicates: [1, 2, 3, 4, 5]\n"
          ]
        }
      ]
    },
    {
      "cell_type": "markdown",
      "source": [
        "34. Implement a function to find the longest common prefix among a list of strings.\n"
      ],
      "metadata": {
        "id": "vF-XQWJOWRH4"
      }
    },
    {
      "cell_type": "code",
      "source": [
        "def longest_common_prefix(strs):\n",
        "    if not strs:\n",
        "        return \"\"  # Return an empty string if the list is empty\n",
        "\n",
        "    common_prefix = strs[0]  # Use the first string as the initial common prefix\n",
        "\n",
        "    for i in range(1, len(strs)):\n",
        "        while strs[i].find(common_prefix) != 0:\n",
        "            common_prefix = common_prefix[:-1]  # Remove the last character of the common prefix\n",
        "\n",
        "            if not common_prefix:\n",
        "                return \"\"  # Return an empty string if the common prefix becomes empty\n",
        "\n",
        "    return common_prefix\n",
        "\n",
        "# Example usage\n",
        "string_list = [\"flower\", \"flow\", \"flight\"]\n",
        "result = longest_common_prefix(string_list)\n",
        "print(\"Longest common prefix:\", result)\n"
      ],
      "metadata": {
        "colab": {
          "base_uri": "https://localhost:8080/"
        },
        "id": "LhrROMZuWTAe",
        "outputId": "354b7ebb-6f9a-49ab-89a9-65ce28fb9153"
      },
      "execution_count": 34,
      "outputs": [
        {
          "output_type": "stream",
          "name": "stdout",
          "text": [
            "Longest common prefix: fl\n"
          ]
        }
      ]
    },
    {
      "cell_type": "markdown",
      "source": [
        "35. Write a program to check if a given number is a perfect square.\n"
      ],
      "metadata": {
        "id": "Danx9K0CWTmU"
      }
    },
    {
      "cell_type": "code",
      "source": [
        "import math\n",
        "\n",
        "def is_perfect_square(num):\n",
        "    if num < 0:\n",
        "        return False\n",
        "    sqrt = math.isqrt(num)\n",
        "    return sqrt * sqrt == num\n",
        "\n",
        "# Example usage\n",
        "number = 25\n",
        "if is_perfect_square(number):\n",
        "    print(number, \"is a perfect square.\")\n",
        "else:\n",
        "    print(number, \"is not a perfect square.\")\n"
      ],
      "metadata": {
        "colab": {
          "base_uri": "https://localhost:8080/"
        },
        "id": "-qEKGpRNWWCC",
        "outputId": "789daeee-44d7-4f3a-9ff8-216b12028cce"
      },
      "execution_count": 35,
      "outputs": [
        {
          "output_type": "stream",
          "name": "stdout",
          "text": [
            "25 is a perfect square.\n"
          ]
        }
      ]
    },
    {
      "cell_type": "markdown",
      "source": [
        "36. Implement a function to calculate the product of all elements in a list.\n"
      ],
      "metadata": {
        "id": "_4eE3JKAWWr_"
      }
    },
    {
      "cell_type": "code",
      "source": [
        "def calculate_product(numbers):\n",
        "    product = 1\n",
        "\n",
        "    for number in numbers:\n",
        "        product *= number\n",
        "\n",
        "    return product\n",
        "\n",
        "# Example usage\n",
        "number_list = [2, 3, 4, 5]\n",
        "result = calculate_product(number_list)\n",
        "print(\"Product of all elements:\", result)\n"
      ],
      "metadata": {
        "colab": {
          "base_uri": "https://localhost:8080/"
        },
        "id": "xi8e_6G3WZZo",
        "outputId": "bad55e4f-6353-4ec0-e9ce-d7be29f6f859"
      },
      "execution_count": 36,
      "outputs": [
        {
          "output_type": "stream",
          "name": "stdout",
          "text": [
            "Product of all elements: 120\n"
          ]
        }
      ]
    },
    {
      "cell_type": "markdown",
      "source": [
        "37. Write a Python program to reverse the order of words in a sentence while preserving the word order.\n"
      ],
      "metadata": {
        "id": "lP58wVy6WZ-U"
      }
    },
    {
      "cell_type": "code",
      "source": [
        "def reverse_sentence(sentence):\n",
        "    words = sentence.split()  # Split the sentence into words\n",
        "    reversed_words = words[::-1]  # Reverse the order of the words\n",
        "    reversed_sentence = ' '.join(reversed_words)  # Join the reversed words back into a sentence\n",
        "    return reversed_sentence\n",
        "\n",
        "# Example usage\n",
        "input_sentence = \"Hello, world! How are you?\"\n",
        "reversed_sentence = reverse_sentence(input_sentence)\n",
        "print(\"Reversed sentence:\", reversed_sentence)\n"
      ],
      "metadata": {
        "colab": {
          "base_uri": "https://localhost:8080/"
        },
        "id": "eENImHTbWcob",
        "outputId": "7d63cf71-937f-4606-e4f7-6a36bee689f1"
      },
      "execution_count": 37,
      "outputs": [
        {
          "output_type": "stream",
          "name": "stdout",
          "text": [
            "Reversed sentence: you? are How world! Hello,\n"
          ]
        }
      ]
    },
    {
      "cell_type": "markdown",
      "source": [
        "38. Implement a function to find the missing number in a given list of consecutive numbers.\n"
      ],
      "metadata": {
        "id": "hUG3avyZWdNM"
      }
    },
    {
      "cell_type": "code",
      "source": [
        "def find_missing_number(nums):\n",
        "    n = len(nums) + 1  # Total number of elements including the missing number\n",
        "    expected_sum = (n * (n + 1)) // 2  # Expected sum of the consecutive numbers\n",
        "    actual_sum = sum(nums)  # Sum of the actual numbers in the list\n",
        "    missing_number = expected_sum - actual_sum  # Calculate the missing number\n",
        "    return missing_number\n",
        "\n",
        "# Example usage\n",
        "number_list = [1, 2, 3, 5, 6]\n",
        "missing_number = find_missing_number(number_list)\n",
        "print(\"Missing number:\", missing_number)\n"
      ],
      "metadata": {
        "colab": {
          "base_uri": "https://localhost:8080/"
        },
        "id": "XcvywKxSWfjc",
        "outputId": "4a9e85b6-895c-45ca-8fe9-8dcefcceee23"
      },
      "execution_count": 38,
      "outputs": [
        {
          "output_type": "stream",
          "name": "stdout",
          "text": [
            "Missing number: 4\n"
          ]
        }
      ]
    },
    {
      "cell_type": "markdown",
      "source": [
        "39. Write a program to find the sum of digits of a given number.\n"
      ],
      "metadata": {
        "id": "NPcz5vaUWgXi"
      }
    },
    {
      "cell_type": "code",
      "source": [
        "def sum_of_digits(number):\n",
        "    sum = 0\n",
        "    while number > 0:\n",
        "        digit = number % 10\n",
        "        sum += digit\n",
        "        number //= 10\n",
        "    return sum\n",
        "\n",
        "# Example usage\n",
        "input_number = 12345\n",
        "result = sum_of_digits(input_number)\n",
        "print(\"Sum of digits:\", result)\n"
      ],
      "metadata": {
        "colab": {
          "base_uri": "https://localhost:8080/"
        },
        "id": "qTxMl-SHWi3x",
        "outputId": "35bac234-0add-4ddf-a43c-7d1292e6f71d"
      },
      "execution_count": 39,
      "outputs": [
        {
          "output_type": "stream",
          "name": "stdout",
          "text": [
            "Sum of digits: 15\n"
          ]
        }
      ]
    },
    {
      "cell_type": "markdown",
      "source": [
        "40. Implement a function to check if a given string is a valid palindrome considering case sensitivity.\n"
      ],
      "metadata": {
        "id": "dPUWAqpYWj03"
      }
    },
    {
      "cell_type": "code",
      "source": [
        "def is_valid_palindrome(string):\n",
        "    reversed_string = string[::-1]\n",
        "    return string == reversed_string\n",
        "\n",
        "# Example usage\n",
        "input_string = \"Racecar\"\n",
        "if is_valid_palindrome(input_string):\n",
        "    print(\"The string is a valid palindrome.\")\n",
        "else:\n",
        "    print(\"The string is not a valid palindrome.\")\n"
      ],
      "metadata": {
        "colab": {
          "base_uri": "https://localhost:8080/"
        },
        "id": "D1PPrR8qWmq-",
        "outputId": "8a368e17-1a06-492a-900a-43e9034a18a2"
      },
      "execution_count": 40,
      "outputs": [
        {
          "output_type": "stream",
          "name": "stdout",
          "text": [
            "The string is not a valid palindrome.\n"
          ]
        }
      ]
    },
    {
      "cell_type": "markdown",
      "source": [
        "41. Write a Python program to find the smallest missing positive integer in a list.\n"
      ],
      "metadata": {
        "id": "Q6TLFlx0WnbE"
      }
    },
    {
      "cell_type": "markdown",
      "source": [],
      "metadata": {
        "id": "drc32NewYgLJ"
      }
    },
    {
      "cell_type": "code",
      "source": [
        "def find_smallest_missing_positive(nums):\n",
        "    num_set = set(nums)\n",
        "    smallest_missing = 1\n",
        "\n",
        "    while smallest_missing in num_set:\n",
        "        smallest_missing += 1\n",
        "\n",
        "    return smallest_missing\n",
        "\n",
        "# Example usage\n",
        "number_list = [3, 4, -1, 1]\n",
        "smallest_missing = find_smallest_missing_positive(number_list)\n",
        "print(\"Smallest missing positive integer:\", smallest_missing)\n"
      ],
      "metadata": {
        "colab": {
          "base_uri": "https://localhost:8080/"
        },
        "id": "yxMomgGyWqDW",
        "outputId": "73494074-1217-4ce8-ab83-91fef47a9f82"
      },
      "execution_count": 41,
      "outputs": [
        {
          "output_type": "stream",
          "name": "stdout",
          "text": [
            "Smallest missing positive integer: 2\n"
          ]
        }
      ]
    },
    {
      "cell_type": "markdown",
      "source": [
        "42. Implement a function to find the longest palindrome substring in a given string.\n"
      ],
      "metadata": {
        "id": "ayv1SN8oWqyn"
      }
    },
    {
      "cell_type": "code",
      "source": [
        "def longest_palindrome_substring(string):\n",
        "    if not string:\n",
        "        return \"\"\n",
        "\n",
        "    n = len(string)\n",
        "    longest_palindrome = \"\"\n",
        "    longest_length = 0\n",
        "\n",
        "    # Initialize a 2D table to store the intermediate results\n",
        "    dp = [[False] * n for _ in range(n)]\n",
        "\n",
        "    # All individual characters are palindromes of length 1\n",
        "    for i in range(n):\n",
        "        dp[i][i] = True\n",
        "        longest_palindrome = string[i]\n",
        "        longest_length = 1\n",
        "\n",
        "    # Check for palindromes of length 2\n",
        "    for i in range(n - 1):\n",
        "        if string[i] == string[i + 1]:\n",
        "            dp[i][i + 1] = True\n",
        "            longest_palindrome = string[i:i+2]\n",
        "            longest_length = 2\n",
        "\n",
        "    # Check for palindromes of length greater than 2\n",
        "    for length in range(3, n + 1):\n",
        "        for i in range(n - length + 1):\n",
        "            j = i + length - 1\n",
        "            if string[i] == string[j] and dp[i + 1][j - 1]:\n",
        "                dp[i][j] = True\n",
        "                longest_palindrome = string[i:j+1]\n",
        "                longest_length = length\n",
        "\n",
        "    return longest_palindrome\n",
        "\n",
        "# Example usage\n",
        "input_string = \"babad\"\n",
        "result = longest_palindrome_substring(input_string)\n",
        "print(\"Longest palindrome substring:\", result)\n"
      ],
      "metadata": {
        "colab": {
          "base_uri": "https://localhost:8080/"
        },
        "id": "VCEQr7MlWtMa",
        "outputId": "10c7e281-5c00-4007-990e-1f3a94f73b5f"
      },
      "execution_count": 42,
      "outputs": [
        {
          "output_type": "stream",
          "name": "stdout",
          "text": [
            "Longest palindrome substring: aba\n"
          ]
        }
      ]
    },
    {
      "cell_type": "markdown",
      "source": [
        "43. Write a program to find the number of occurrences of a given element in a list.\n"
      ],
      "metadata": {
        "id": "ekINLMbYWt5-"
      }
    },
    {
      "cell_type": "code",
      "source": [
        "def count_occurrences(lst, element):\n",
        "    count = 0\n",
        "    for item in lst:\n",
        "        if item == element:\n",
        "            count += 1\n",
        "    return count\n",
        "\n",
        "# Example usage\n",
        "number_list = [1, 2, 3, 4, 2, 2, 5, 6, 2]\n",
        "element = 2\n",
        "occurrences = count_occurrences(number_list, element)\n",
        "print(\"Number of occurrences of\", element, \":\", occurrences)\n"
      ],
      "metadata": {
        "colab": {
          "base_uri": "https://localhost:8080/"
        },
        "id": "soydvl3kWwQY",
        "outputId": "58baa56a-bb67-469c-a24e-c088bc4fcb76"
      },
      "execution_count": 43,
      "outputs": [
        {
          "output_type": "stream",
          "name": "stdout",
          "text": [
            "Number of occurrences of 2 : 4\n"
          ]
        }
      ]
    },
    {
      "cell_type": "markdown",
      "source": [
        "44. Implement a function to check if a given number is a perfect number.\n"
      ],
      "metadata": {
        "id": "FBzpqBlZWxGb"
      }
    },
    {
      "cell_type": "code",
      "source": [
        "def is_perfect_number(number):\n",
        "    if number <= 0:\n",
        "        return False\n",
        "\n",
        "    divisors_sum = 0\n",
        "    for i in range(1, number):\n",
        "        if number % i == 0:\n",
        "            divisors_sum += i\n",
        "\n",
        "    return divisors_sum == number\n",
        "\n",
        "# Example usage\n",
        "input_number = 28\n",
        "if is_perfect_number(input_number):\n",
        "    print(input_number, \"is a perfect number.\")\n",
        "else:\n",
        "    print(input_number, \"is not a perfect number.\")\n"
      ],
      "metadata": {
        "colab": {
          "base_uri": "https://localhost:8080/"
        },
        "id": "7Rt4cWLnW0T9",
        "outputId": "d67c2ffb-b144-4d4a-f0c0-3aa6b9c1209a"
      },
      "execution_count": 44,
      "outputs": [
        {
          "output_type": "stream",
          "name": "stdout",
          "text": [
            "28 is a perfect number.\n"
          ]
        }
      ]
    },
    {
      "cell_type": "markdown",
      "source": [
        "45. Write a Python program to remove all duplicates from a string.\n"
      ],
      "metadata": {
        "id": "HNyRI6_BW1LK"
      }
    },
    {
      "cell_type": "code",
      "source": [
        "def remove_duplicates(string):\n",
        "    unique_chars = set()\n",
        "    result = ''\n",
        "\n",
        "    for char in string:\n",
        "        if char not in unique_chars:\n",
        "            unique_chars.add(char)\n",
        "            result += char\n",
        "\n",
        "    return result\n",
        "\n",
        "# Example usage\n",
        "input_string = \"Hello, World!\"\n",
        "result = remove_duplicates(input_string)\n",
        "print(\"String after removing duplicates:\", result)\n"
      ],
      "metadata": {
        "colab": {
          "base_uri": "https://localhost:8080/"
        },
        "id": "T2iSobt-W3an",
        "outputId": "ac484fbc-776b-47e0-cd07-9f5d7b070521"
      },
      "execution_count": 45,
      "outputs": [
        {
          "output_type": "stream",
          "name": "stdout",
          "text": [
            "String after removing duplicates: Helo, Wrd!\n"
          ]
        }
      ]
    },
    {
      "cell_type": "markdown",
      "source": [
        "46. Implement a function to find the first missing positive"
      ],
      "metadata": {
        "id": "UBgmgmiUW4rY"
      }
    },
    {
      "cell_type": "code",
      "source": [
        "def find_first_missing_positive(nums):\n",
        "    n = len(nums)\n",
        "\n",
        "    # Partition and marking step\n",
        "    for i in range(n):\n",
        "        while 1 <= nums[i] <= n and nums[nums[i] - 1] != nums[i]:\n",
        "            nums[nums[i] - 1], nums[i] = nums[i], nums[nums[i] - 1]\n",
        "\n",
        "    # Finding the first missing positive\n",
        "    for i in range(n):\n",
        "        if nums[i] != i + 1:\n",
        "            return i + 1\n",
        "\n",
        "    return n + 1\n",
        "\n",
        "# Example usage\n",
        "number_list = [3, 4, -1, 1]\n",
        "first_missing_positive = find_first_missing_positive(number_list)\n",
        "print(\"First missing positive integer:\", first_missing_positive)\n"
      ],
      "metadata": {
        "colab": {
          "base_uri": "https://localhost:8080/"
        },
        "id": "FK7J6mbTW5zI",
        "outputId": "778252b0-82a2-431a-c1bb-7b62c2da9e36"
      },
      "execution_count": 46,
      "outputs": [
        {
          "output_type": "stream",
          "name": "stdout",
          "text": [
            "First missing positive integer: 2\n"
          ]
        }
      ]
    },
    {
      "cell_type": "code",
      "source": [],
      "metadata": {
        "id": "8h_worJ2aK2-"
      },
      "execution_count": null,
      "outputs": []
    }
  ]
}