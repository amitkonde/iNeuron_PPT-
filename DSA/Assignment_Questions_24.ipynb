{
  "nbformat": 4,
  "nbformat_minor": 0,
  "metadata": {
    "colab": {
      "provenance": []
    },
    "kernelspec": {
      "name": "python3",
      "display_name": "Python 3"
    },
    "language_info": {
      "name": "python"
    }
  },
  "cells": [
    {
      "cell_type": "code",
      "execution_count": 1,
      "metadata": {
        "id": "HnHiTNxprEup"
      },
      "outputs": [],
      "source": []
    },
    {
      "cell_type": "markdown",
      "source": [
        "<aside>\n",
        "💡 1. **Roman to Integer**\n",
        "\n",
        "Roman numerals are represented by seven different symbols: `I`, `V`, `X`, `L`, `C`, `D` and `M`.\n",
        "\n",
        "```\n",
        "SymbolValue\n",
        "I             1\n",
        "V             5\n",
        "X             10\n",
        "L             50\n",
        "C             100\n",
        "D             500\n",
        "M             1000\n",
        "```\n",
        "\n",
        "For example, `2` is written as `II` in Roman numeral, just two ones added together. `12` is written as `XII`, which is simply `X + II`. The number `27` is written as `XXVII`, which is `XX + V + II`.\n",
        "\n",
        "Roman numerals are usually written largest to smallest from left to right. However, the numeral for four is not `IIII`. Instead, the number four is written as `IV`. Because the one is before the five we subtract it making four. The same principle applies to the number nine, which is written as `IX`. There are six instances where subtraction is used:\n",
        "\n",
        "- `I` can be placed before `V` (5) and `X` (10) to make 4 and 9.\n",
        "- `X` can be placed before `L` (50) and `C` (100) to make 40 and 90.\n",
        "- `C` can be placed before `D` (500) and `M` (1000) to make 400 and 900.\n",
        "\n",
        "Given a roman numeral, convert it to an integer.\n",
        "\n",
        "**Example 1:**\n",
        "\n",
        "```\n",
        "Input: s = \"III\"\n",
        "Output: 3\n",
        "Explanation: III = 3.\n",
        "```\n",
        "\n",
        "**Example 2:**\n",
        "\n",
        "```\n",
        "Input: s = \"LVIII\"\n",
        "Output: 58\n",
        "Explanation: L = 50, V= 5, III = 3.\n",
        "```\n",
        "\n",
        "**Constraints:**\n",
        "\n",
        "- `1 <= s.length <= 15`\n",
        "- `s` contains only the characters `('I', 'V', 'X', 'L', 'C', 'D', 'M')`.\n",
        "- It is **guaranteed** that `s` is a valid roman numeral in the range `[1, 3999]`.\n",
        "</aside>"
      ],
      "metadata": {
        "id": "bzj3JcMVrLeS"
      }
    },
    {
      "cell_type": "code",
      "source": [
        "def romanToInt(s):\n",
        "    roman_values = {\n",
        "        'I': 1, 'V': 5, 'X': 10, 'L': 50, 'C': 100, 'D': 500, 'M': 1000\n",
        "    }\n",
        "    total = 0\n",
        "    n = len(s)\n",
        "    for i in range(n):\n",
        "        if i < n - 1 and roman_values[s[i]] < roman_values[s[i+1]]:\n",
        "            total -= roman_values[s[i]]\n",
        "        else:\n",
        "            total += roman_values[s[i]]\n",
        "    return total\n"
      ],
      "metadata": {
        "id": "6BqyXnftrJTz"
      },
      "execution_count": 2,
      "outputs": []
    },
    {
      "cell_type": "code",
      "source": [
        "print(romanToInt(\"III\"))  # Output: 3\n",
        "print(romanToInt(\"LVIII\"))  # Output: 58\n"
      ],
      "metadata": {
        "colab": {
          "base_uri": "https://localhost:8080/"
        },
        "id": "ytH9IlTLrZs6",
        "outputId": "529b7435-43cd-42ff-aed4-61741a9a6c0b"
      },
      "execution_count": 3,
      "outputs": [
        {
          "output_type": "stream",
          "name": "stdout",
          "text": [
            "3\n",
            "58\n"
          ]
        }
      ]
    },
    {
      "cell_type": "code",
      "source": [],
      "metadata": {
        "id": "fovrH7r_r4ea"
      },
      "execution_count": null,
      "outputs": []
    },
    {
      "cell_type": "markdown",
      "source": [
        "<aside>\n",
        "💡 2. **Longest Substring Without Repeating Characters**\n",
        "\n",
        "Given a string `s`, find the length of the **longest substring** without repeating characters.\n",
        "\n",
        "**Example 1:**\n",
        "\n",
        "```\n",
        "Input: s = \"abcabcbb\"\n",
        "Output: 3\n",
        "Explanation: The answer is \"abc\", with the length of 3.\n",
        "```\n",
        "\n",
        "**Example 2:**\n",
        "\n",
        "```\n",
        "Input: s = \"bbbbb\"\n",
        "Output: 1\n",
        "Explanation: The answer is \"b\", with the length of 1.\n",
        "```\n",
        "\n",
        "**Example 3:**\n",
        "\n",
        "```\n",
        "Input: s = \"pwwkew\"\n",
        "Output: 3\n",
        "Explanation: The answer is \"wke\", with the length of 3.\n",
        "Notice that the answer must be a substring, \"pwke\" is a subsequence and not a substring.\n",
        "```\n",
        "\n",
        "**Constraints:**\n",
        "\n",
        "- `0 <= s.length <= 50000`\n",
        "- `s` consists of English letters, digits, symbols and spaces.\n",
        "</aside>"
      ],
      "metadata": {
        "id": "qe3qL5VWsCBo"
      }
    },
    {
      "cell_type": "code",
      "source": [
        "def lengthOfLongestSubstring(s):\n",
        "    n = len(s)\n",
        "    start = 0\n",
        "    end = 0\n",
        "    max_length = 0\n",
        "    unique_chars = set()\n",
        "\n",
        "    while end < n:\n",
        "        if s[end] not in unique_chars:\n",
        "            unique_chars.add(s[end])\n",
        "            max_length = max(max_length, end - start + 1)\n",
        "            end += 1\n",
        "        else:\n",
        "            unique_chars.remove(s[start])\n",
        "            start += 1\n",
        "\n",
        "    return max_length\n"
      ],
      "metadata": {
        "id": "bxNAKYlxsWqG"
      },
      "execution_count": 4,
      "outputs": []
    },
    {
      "cell_type": "code",
      "source": [
        "print(lengthOfLongestSubstring(\"abcabcbb\"))  # Output: 3\n",
        "print(lengthOfLongestSubstring(\"bbbbb\"))  # Output: 1\n",
        "print(lengthOfLongestSubstring(\"pwwkew\"))  # Output: 3\n"
      ],
      "metadata": {
        "colab": {
          "base_uri": "https://localhost:8080/"
        },
        "id": "c2fMbHx6sxgT",
        "outputId": "a2f5e72b-ab67-4d06-af7b-ca9b04ac8aa6"
      },
      "execution_count": 5,
      "outputs": [
        {
          "output_type": "stream",
          "name": "stdout",
          "text": [
            "3\n",
            "1\n",
            "3\n"
          ]
        }
      ]
    },
    {
      "cell_type": "code",
      "source": [],
      "metadata": {
        "id": "YZHVI-_Ws1Mr"
      },
      "execution_count": null,
      "outputs": []
    },
    {
      "cell_type": "markdown",
      "source": [
        "<aside>\n",
        "💡 3. **Majority Element**\n",
        "\n",
        "Given an array `nums` of size `n`, return *the majority element*.\n",
        "\n",
        "The majority element is the element that appears more than `⌊n / 2⌋` times. You may assume that the majority element always exists in the array.\n",
        "\n",
        "**Example 1:**\n",
        "\n",
        "```\n",
        "Input: nums = [3,2,3]\n",
        "Output: 3\n",
        "```\n",
        "\n",
        "**Example 2:**\n",
        "\n",
        "```\n",
        "Input: nums = [2,2,1,1,1,2,2]\n",
        "Output: 2\n",
        "```\n",
        "\n",
        "**Constraints:**\n",
        "\n",
        "- `n == nums.length`\n",
        "- `1 <= n <= 5 * 10^4`\n",
        "- `-10^9 <= nums[i] <= 10^9`\n",
        "</aside>"
      ],
      "metadata": {
        "id": "9xi29iYTtN7J"
      }
    },
    {
      "cell_type": "code",
      "source": [
        "def majorityElement(nums):\n",
        "    candidate = None\n",
        "    count = 0\n",
        "\n",
        "    for num in nums:\n",
        "        if count == 0:\n",
        "            candidate = num\n",
        "        if num == candidate:\n",
        "            count += 1\n",
        "        else:\n",
        "            count -= 1\n",
        "\n",
        "    return candidate\n"
      ],
      "metadata": {
        "id": "hyfARcAitO_d"
      },
      "execution_count": 6,
      "outputs": []
    },
    {
      "cell_type": "code",
      "source": [
        "print(majorityElement([3, 2, 3]))  # Output: 3\n",
        "print(majorityElement([2, 2, 1, 1, 1, 2, 2]))  # Output: 2\n"
      ],
      "metadata": {
        "colab": {
          "base_uri": "https://localhost:8080/"
        },
        "id": "iPEfBWSWtSpQ",
        "outputId": "6b326a52-db1c-42ca-d743-e7f364b52db5"
      },
      "execution_count": 7,
      "outputs": [
        {
          "output_type": "stream",
          "name": "stdout",
          "text": [
            "3\n",
            "2\n"
          ]
        }
      ]
    },
    {
      "cell_type": "code",
      "source": [],
      "metadata": {
        "id": "nW_cKnv7tWJr"
      },
      "execution_count": null,
      "outputs": []
    },
    {
      "cell_type": "markdown",
      "source": [
        "<aside>\n",
        "💡 4. **Group Anagram**\n",
        "\n",
        "Given an array of strings `strs`, group **the anagrams** together. You can return the answer in **any order**.\n",
        "\n",
        "An **Anagram** is a word or phrase formed by rearranging the letters of a different word or phrase, typically using all the original letters exactly once.\n",
        "\n",
        "**Example 1:**\n",
        "\n",
        "```\n",
        "Input: strs = [\"eat\",\"tea\",\"tan\",\"ate\",\"nat\",\"bat\"]\n",
        "Output: [[\"bat\"],[\"nat\",\"tan\"],[\"ate\",\"eat\",\"tea\"]]\n",
        "```\n",
        "\n",
        "**Example 2:**\n",
        "\n",
        "```\n",
        "Input: strs = [\"\"]\n",
        "Output: [[\"\"]]\n",
        "```\n",
        "\n",
        "**Example 3:**\n",
        "\n",
        "```\n",
        "Input: strs = [\"a\"]\n",
        "Output: [[\"a\"]]\n",
        "```\n",
        "\n",
        "**Constraints:**\n",
        "\n",
        "- `1 <= strs.length <= 10000`\n",
        "- `0 <= strs[i].length <= 100`\n",
        "- `strs[i]` consists of lowercase English letters.\n",
        "</aside>"
      ],
      "metadata": {
        "id": "h7-PIzfTtj3x"
      }
    },
    {
      "cell_type": "code",
      "source": [
        "def groupAnagrams(strs):\n",
        "    anagram_groups = {}\n",
        "\n",
        "    for word in strs:\n",
        "        sorted_word = ''.join(sorted(word))\n",
        "        if sorted_word not in anagram_groups:\n",
        "            anagram_groups[sorted_word] = []\n",
        "        anagram_groups[sorted_word].append(word)\n",
        "\n",
        "    return list(anagram_groups.values())\n"
      ],
      "metadata": {
        "id": "W69JkIRFuBfv"
      },
      "execution_count": 8,
      "outputs": []
    },
    {
      "cell_type": "code",
      "source": [
        "print(groupAnagrams([\"eat\", \"tea\", \"tan\", \"ate\", \"nat\", \"bat\"]))\n",
        "# Output: [[\"bat\"], [\"nat\", \"tan\"], [\"ate\", \"eat\", \"tea\"]]\n",
        "\n",
        "print(groupAnagrams([\"\"]))\n",
        "# Output: [[\"\"]]\n",
        "\n",
        "print(groupAnagrams([\"a\"]))\n",
        "# Output: [[\"a\"]]\n"
      ],
      "metadata": {
        "colab": {
          "base_uri": "https://localhost:8080/"
        },
        "id": "vWrOe9cjuGY_",
        "outputId": "cab00757-dd35-46b8-9fbf-3614f008810a"
      },
      "execution_count": 9,
      "outputs": [
        {
          "output_type": "stream",
          "name": "stdout",
          "text": [
            "[['eat', 'tea', 'ate'], ['tan', 'nat'], ['bat']]\n",
            "[['']]\n",
            "[['a']]\n"
          ]
        }
      ]
    },
    {
      "cell_type": "code",
      "source": [],
      "metadata": {
        "id": "aVbxF3xFuI-v"
      },
      "execution_count": null,
      "outputs": []
    },
    {
      "cell_type": "markdown",
      "source": [
        "<aside>\n",
        "💡 5. **Ugly Numbers**\n",
        "\n",
        "An **ugly number** is a positive integer whose prime factors are limited to `2`, `3`, and `5`.\n",
        "\n",
        "Given an integer `n`, return *the* `nth` ***ugly number***.\n",
        "\n",
        "**Example 1:**\n",
        "\n",
        "```\n",
        "Input: n = 10\n",
        "Output: 12\n",
        "Explanation: [1, 2, 3, 4, 5, 6, 8, 9, 10, 12] is the sequence of the first 10 ugly numbers.\n",
        "```\n",
        "\n",
        "**Example 2:**\n",
        "\n",
        "```\n",
        "Input: n = 1\n",
        "Output: 1\n",
        "Explanation: 1 has no prime factors, therefore all of its prime factors are limited to 2, 3, and 5.\n",
        "```\n",
        "\n",
        "**Constraints:**\n",
        "\n",
        "- `1 <= n <= 1690`\n",
        "</aside>"
      ],
      "metadata": {
        "id": "GPTqb4CtuT7C"
      }
    },
    {
      "cell_type": "code",
      "source": [
        "def nthUglyNumber(n):\n",
        "    ugly = [0] * n\n",
        "    ugly[0] = 1\n",
        "    p2 = p3 = p5 = 0\n",
        "\n",
        "    for i in range(1, n):\n",
        "        next_ugly = min(ugly[p2] * 2, ugly[p3] * 3, ugly[p5] * 5)\n",
        "\n",
        "        if next_ugly == ugly[p2] * 2:\n",
        "            p2 += 1\n",
        "        if next_ugly == ugly[p3] * 3:\n",
        "            p3 += 1\n",
        "        if next_ugly == ugly[p5] * 5:\n",
        "            p5 += 1\n",
        "\n",
        "        ugly[i] = next_ugly\n",
        "\n",
        "    return ugly[n-1]\n"
      ],
      "metadata": {
        "id": "9kjPwhT5uVMW"
      },
      "execution_count": 10,
      "outputs": []
    },
    {
      "cell_type": "code",
      "source": [
        "print(nthUglyNumber(10))  # Output: 12\n",
        "print(nthUglyNumber(1))  # Output: 1\n"
      ],
      "metadata": {
        "colab": {
          "base_uri": "https://localhost:8080/"
        },
        "id": "pglBIaI2uo42",
        "outputId": "839a470c-03da-4c92-e48f-a2d21eee0225"
      },
      "execution_count": 11,
      "outputs": [
        {
          "output_type": "stream",
          "name": "stdout",
          "text": [
            "12\n",
            "1\n"
          ]
        }
      ]
    },
    {
      "cell_type": "code",
      "source": [],
      "metadata": {
        "id": "1g5_kdgTu166"
      },
      "execution_count": null,
      "outputs": []
    },
    {
      "cell_type": "markdown",
      "source": [
        "<aside>\n",
        "💡 6. **Top K Frequent Words**\n",
        "\n",
        "Given an array of strings `words` and an integer `k`, return *the* `k` *most frequent strings*.\n",
        "\n",
        "Return the answer **sorted** by **the frequency** from highest to lowest. Sort the words with the same frequency by their **lexicographical order**.\n",
        "\n",
        "**Example 1:**\n",
        "\n",
        "```\n",
        "Input: words = [\"i\",\"love\",\"leetcode\",\"i\",\"love\",\"coding\"], k = 2\n",
        "Output: [\"i\",\"love\"]\n",
        "Explanation: \"i\" and \"love\" are the two most frequent words.\n",
        "Note that \"i\" comes before \"love\" due to a lower alphabetical order.\n",
        "```\n",
        "\n",
        "**Example 2:**\n",
        "\n",
        "```\n",
        "Input: words = [\"the\",\"day\",\"is\",\"sunny\",\"the\",\"the\",\"the\",\"sunny\",\"is\",\"is\"], k = 4\n",
        "Output: [\"the\",\"is\",\"sunny\",\"day\"]\n",
        "Explanation: \"the\", \"is\", \"sunny\" and \"day\" are the four most frequent words, with the number of occurrence being 4, 3, 2 and 1 respectively.\n",
        "```\n",
        "\n",
        "**Constraints:**\n",
        "\n",
        "- `1 <= words.length <= 500`\n",
        "- `1 <= words[i].length <= 10`\n",
        "- `words[i]` consists of lowercase English letters.\n",
        "- `k` is in the range `[1, The number of **unique** words[i]]`\n",
        "</aside>"
      ],
      "metadata": {
        "id": "zHHB_s3XvGKU"
      }
    },
    {
      "cell_type": "code",
      "source": [
        "from collections import Counter\n",
        "\n",
        "def topKFrequent(words, k):\n",
        "    word_count = Counter(words)\n",
        "\n",
        "    def sorting_key(word):\n",
        "        return (-word_count[word], word)\n",
        "\n",
        "    sorted_words = sorted(word_count.keys(), key=sorting_key)\n",
        "\n",
        "    return sorted_words[:k]\n"
      ],
      "metadata": {
        "id": "1Aa7ZMrMvHqa"
      },
      "execution_count": 12,
      "outputs": []
    },
    {
      "cell_type": "code",
      "source": [
        "print(topKFrequent([\"i\", \"love\", \"leetcode\", \"i\", \"love\", \"coding\"], 2))\n",
        "# Output: [\"i\", \"love\"]\n",
        "\n",
        "print(topKFrequent([\"the\", \"day\", \"is\", \"sunny\", \"the\", \"the\", \"the\", \"sunny\", \"is\", \"is\"], 4))\n",
        "# Output: [\"the\", \"is\", \"sunny\", \"day\"]\n"
      ],
      "metadata": {
        "colab": {
          "base_uri": "https://localhost:8080/"
        },
        "id": "yrqqmBjSvNfl",
        "outputId": "b09a5fcd-3ee5-4229-9d3d-b53c021c9db1"
      },
      "execution_count": 13,
      "outputs": [
        {
          "output_type": "stream",
          "name": "stdout",
          "text": [
            "['i', 'love']\n",
            "['the', 'is', 'sunny', 'day']\n"
          ]
        }
      ]
    },
    {
      "cell_type": "code",
      "source": [],
      "metadata": {
        "id": "tyrCM0XOvQDo"
      },
      "execution_count": null,
      "outputs": []
    },
    {
      "cell_type": "markdown",
      "source": [
        "<aside>\n",
        "💡 7. **Sliding Window Maximum**\n",
        "\n",
        "You are given an array of integers `nums`, there is a sliding window of size `k` which is moving from the very left of the array to the very right. You can only see the `k` numbers in the window. Each time the sliding window moves right by one position.\n",
        "\n",
        "Return *the max sliding window*.\n",
        "\n",
        "**Example 1:**\n",
        "\n",
        "```\n",
        "Input: nums = [1,3,-1,-3,5,3,6,7], k = 3\n",
        "Output: [3,3,5,5,6,7]\n",
        "Explanation:\n",
        "Window position                Max\n",
        "---------------               -----\n",
        "[1  3  -1] -3  5  3  6 7         3\n",
        " 1 [3  -1  -3] 5  3  6 7         3\n",
        " 1  3 [-1  -3  5] 3  6 7         5\n",
        " 1  3  -1 [-3  5  3] 6 7         5\n",
        " 1  3  -1  -3 [5  3  6]7         6\n",
        " 1  3  -1  -3  5 [3  6  7]       7\n",
        "```\n",
        "\n",
        "**Example 2:**\n",
        "\n",
        "```\n",
        "Input: nums = [1], k = 1\n",
        "Output: [1]\n",
        "```\n",
        "\n",
        "**Constraints:**\n",
        "\n",
        "- `1 <= nums.length <= 100000`\n",
        "- -`10000 <= nums[i] <= 10000`\n",
        "- `1 <= k <= nums.length`\n",
        "</aside>"
      ],
      "metadata": {
        "id": "dIzrBPecvdG2"
      }
    },
    {
      "cell_type": "code",
      "source": [
        "from collections import deque\n",
        "\n",
        "def maxSlidingWindow(nums, k):\n",
        "    window = deque()\n",
        "    result = []\n",
        "\n",
        "    for i in range(len(nums)):\n",
        "        if window and window[0] <= i - k:\n",
        "            window.popleft()\n",
        "\n",
        "        while window and nums[window[-1]] <= nums[i]:\n",
        "            window.pop()\n",
        "\n",
        "        window.append(i)\n",
        "\n",
        "        if i >= k - 1:\n",
        "            result.append(nums[window[0]])\n",
        "\n",
        "    return result\n"
      ],
      "metadata": {
        "id": "6C0pqM7hveFb"
      },
      "execution_count": 14,
      "outputs": []
    },
    {
      "cell_type": "code",
      "source": [
        "print(maxSlidingWindow([1, 3, -1, -3, 5, 3, 6, 7], 3))\n",
        "# Output: [3, 3, 5, 5, 6, 7]\n"
      ],
      "metadata": {
        "colab": {
          "base_uri": "https://localhost:8080/"
        },
        "id": "m6Q8vIYTvlbV",
        "outputId": "7b35c814-f9d2-4255-adc9-4e64f62996d4"
      },
      "execution_count": 15,
      "outputs": [
        {
          "output_type": "stream",
          "name": "stdout",
          "text": [
            "[3, 3, 5, 5, 6, 7]\n"
          ]
        }
      ]
    },
    {
      "cell_type": "code",
      "source": [],
      "metadata": {
        "id": "2KoISn4Avndy"
      },
      "execution_count": null,
      "outputs": []
    },
    {
      "cell_type": "markdown",
      "source": [
        "<aside>\n",
        "💡 8. **Find K Closest Elements**\n",
        "\n",
        "Given a **sorted** integer array `arr`, two integers `k` and `x`, return the `k` closest integers to `x` in the array. The result should also be sorted in ascending order.\n",
        "\n",
        "An integer `a` is closer to `x` than an integer `b` if:\n",
        "\n",
        "- `|a - x| < |b - x|`, or\n",
        "- `|a - x| == |b - x|` and `a < b`\n",
        "\n",
        "**Example 1:**\n",
        "\n",
        "```\n",
        "Input: arr = [1,2,3,4,5], k = 4, x = 3\n",
        "Output: [1,2,3,4]\n",
        "```\n",
        "\n",
        "**Example 2:**\n",
        "\n",
        "```\n",
        "Input: arr = [1,2,3,4,5], k = 4, x = -1\n",
        "Output: [1,2,3,4]\n",
        "```\n",
        "\n",
        "**Constraints:**\n",
        "\n",
        "- `1 <= k <= arr.length`\n",
        "- `1 <= arr.length <= 10000`\n",
        "- `arr` is sorted in **ascending** order.\n",
        "- -`10000 <= arr[i], x <= 10000`\n",
        "</aside>"
      ],
      "metadata": {
        "id": "34h_dtkCvvOm"
      }
    },
    {
      "cell_type": "code",
      "source": [
        "def findClosestElements(arr, k, x):\n",
        "    left = 0\n",
        "    right = len(arr) - 1\n",
        "\n",
        "    while right - left >= k:\n",
        "        if abs(arr[left] - x) <= abs(arr[right] - x):\n",
        "            right -= 1\n",
        "        else:\n",
        "            left += 1\n",
        "\n",
        "    return arr[left:right+1]\n"
      ],
      "metadata": {
        "id": "6tqdUV59vvyS"
      },
      "execution_count": 16,
      "outputs": []
    },
    {
      "cell_type": "code",
      "source": [
        "print(findClosestElements([1, 2, 3, 4, 5], 4, 3))\n",
        "# Output: [1, 2, 3, 4]\n",
        "\n",
        "print(findClosestElements([1, 2, 3, 4, 5], 4, -1))\n",
        "# Output: [1, 2, 3, 4]\n"
      ],
      "metadata": {
        "colab": {
          "base_uri": "https://localhost:8080/"
        },
        "id": "EjPEgKCAv6KZ",
        "outputId": "851a9548-2204-4997-c1df-1a366f0202a1"
      },
      "execution_count": 17,
      "outputs": [
        {
          "output_type": "stream",
          "name": "stdout",
          "text": [
            "[1, 2, 3, 4]\n",
            "[1, 2, 3, 4]\n"
          ]
        }
      ]
    },
    {
      "cell_type": "code",
      "source": [],
      "metadata": {
        "id": "PbRGsmZov8SP"
      },
      "execution_count": null,
      "outputs": []
    }
  ]
}